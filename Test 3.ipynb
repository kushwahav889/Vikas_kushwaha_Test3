{
 "cells": [
  {
   "cell_type": "markdown",
   "id": "739cbfad",
   "metadata": {},
   "source": [
    "# Test 3"
   ]
  },
  {
   "cell_type": "code",
   "execution_count": 2,
   "id": "8fd5c6b8",
   "metadata": {},
   "outputs": [
    {
     "name": "stdout",
     "output_type": "stream",
     "text": [
      "Enter distance in feet : 100\n",
      "The distance in inches is 1200 inches.\n",
      "The distance in yards is 33.33 yards.\n",
      "The distance in miles is 0.02 miles.\n"
     ]
    }
   ],
   "source": [
    "#1. Write a Python program to convert the distance (in feet) to inches, yards, and miles.\n",
    "\n",
    "dis_ft = int(input(\"Enter distance in feet : \"))\n",
    "\n",
    "dis_inches = dis_ft * 12\n",
    "dis_yards = dis_ft / 3.0\n",
    "dis_miles = dis_ft / 5280.0\n",
    "\n",
    "print(\"The distance in inches is %i inches.\" % dis_inches)\n",
    "print(\"The distance in yards is %.2f yards.\" % dis_yards)\n",
    "print(\"The distance in miles is %.2f miles.\" % dis_miles)"
   ]
  },
  {
   "cell_type": "code",
   "execution_count": 6,
   "id": "7701bb99",
   "metadata": {},
   "outputs": [
    {
     "name": "stdout",
     "output_type": "stream",
     "text": [
      "Enter the number whose divisibility needs to be checked : 45\n",
      "Enter the number with which divisibility needs to be checked : 45\n",
      "The number is divisible.\n"
     ]
    }
   ],
   "source": [
    "#2. Write a Python program to check whether a number is divisible by another number. Accept two integer’s values form the user.\n",
    "\n",
    "num1 = int (input (\"Enter the number whose divisibility needs to be checked : \"))\n",
    "\n",
    "num2 = int (input (\"Enter the number with which divisibility needs to be checked : \"))\n",
    "\n",
    "if num1%num2 == 0:\n",
    "\n",
    "              print (\"The number is divisible.\")\n",
    "\n",
    "else:\n",
    "\n",
    "              print (\"The number is not divisible.\")\n",
    "\n",
    "\n"
   ]
  },
  {
   "cell_type": "code",
   "execution_count": 8,
   "id": "e5158c64",
   "metadata": {},
   "outputs": [
    {
     "name": "stdout",
     "output_type": "stream",
     "text": [
      "Input a letter of the alphabet : u\n",
      "u is a vowel.\n"
     ]
    }
   ],
   "source": [
    "#3. Write a Python program to check whether an alphabet is a vowel or consonant.\n",
    "\n",
    "l = input(\"Input a letter of the alphabet : \")\n",
    "\n",
    "if l in ('a', 'e', 'i', 'o', 'u'):\n",
    "    print(\"%s is a vowel.\" % l)\n",
    "elif l == 'y':\n",
    "    print(\"Sometimes letter y stand for vowel, sometimes stand for consonant.\")\n",
    "else:\n",
    "    print(\"%s is a consonant.\" % l) "
   ]
  },
  {
   "cell_type": "code",
   "execution_count": 16,
   "id": "3fdc89f2",
   "metadata": {},
   "outputs": [
    {
     "name": "stdout",
     "output_type": "stream",
     "text": [
      " Enter a number : 12\n",
      "Table of: \n",
      "12 x 1 = 12\n",
      "12 x 2 = 24\n",
      "12 x 3 = 36\n",
      "12 x 4 = 48\n",
      "12 x 5 = 60\n",
      "12 x 6 = 72\n",
      "12 x 7 = 84\n",
      "12 x 8 = 96\n",
      "12 x 9 = 108\n",
      "12 x 10 = 120\n"
     ]
    }
   ],
   "source": [
    "#4. Write a program to print multiplication table of any given number in the format given below:\n",
    "            #12 x 1 = 12\n",
    "            #12 x 2 = 24\n",
    "        \n",
    "num = int(input(\" Enter a number : \"))    \n",
    "\n",
    "# using the for loop to generate the multiplication tables     \n",
    "\n",
    "print(\"Table of: \")  \n",
    "\n",
    "for a in range(1,11):    \n",
    "\n",
    "   print(num,'x',a,'=',num*a)  \n"
   ]
  },
  {
   "cell_type": "code",
   "execution_count": 26,
   "id": "dc67efa7",
   "metadata": {},
   "outputs": [
    {
     "name": "stdout",
     "output_type": "stream",
     "text": [
      "-10 -9 -8 -7 -6 -5 -4 -3 -2 -1 "
     ]
    }
   ],
   "source": [
    "#5. Write a program to display numbers from -10 to -1.   \n",
    "\n",
    "for i in range(-10,0,1):\n",
    "    print(i,end=' ')\n"
   ]
  },
  {
   "cell_type": "code",
   "execution_count": 29,
   "id": "d1d6ea43",
   "metadata": {},
   "outputs": [
    {
     "name": "stdout",
     "output_type": "stream",
     "text": [
      "[1, 8, 27, 64, 125, 216, 343, 512, 729, 1000, 1331, 1728, 2197, 2744, 3375, 4096, 4913, 5832, 6859, 8000]\n"
     ]
    }
   ],
   "source": [
    "#6. Calculate the cube of every number upto 20.\n",
    "\n",
    "res = []\n",
    "for i in range(1,21):\n",
    "    res.append(i*i*i)\n",
    "print(res)"
   ]
  },
  {
   "cell_type": "code",
   "execution_count": null,
   "id": "12eb4786",
   "metadata": {},
   "outputs": [],
   "source": [
    "#7. Write a program to find the factorial of any given number.\n",
    "\n",
    "num = int(input(\"Enter a number: \"))\n",
    "\n",
    "fact = 1\n",
    "\n",
    "# check if the number is negative, positive or zero\n",
    "if num < 0:\n",
    "    print(\"Sorry, factorial does not exist for negative numbers\")\n",
    "elif num == 0:\n",
    "    print(\"The factorial of 0 is 1\")\n",
    "else:\n",
    "    for i in range(1,num + 1):\n",
    "        fact = fact*i\n",
    "    print(\"The factorial of\",num,\"is\",fact)"
   ]
  },
  {
   "cell_type": "code",
   "execution_count": null,
   "id": "9f656f90",
   "metadata": {},
   "outputs": [],
   "source": [
    "#8. Write a program to create a calculator and use while loop so the user can use it again without running the program. \n",
    "\n",
    "# This function adds two numbers\n",
    "def add(x, y):\n",
    "    return x + y\n",
    "\n",
    "# This function subtracts two numbers\n",
    "def subtract(x, y):\n",
    "    return x - y\n",
    "\n",
    "# This function multiplies two numbers\n",
    "def multiply(x, y):\n",
    "    return x * y\n",
    "\n",
    "# This function divides two numbers\n",
    "def divide(x, y):\n",
    "    return x / y\n",
    "\n",
    "\n",
    "print(\"Select operation.\")\n",
    "print(\"1.Add  \")\n",
    "print(\"2.Subtract  \")\n",
    "print(\"3.Multiply  \")\n",
    "print(\"4.Divide  \")\n",
    "\n",
    "while True:\n",
    "    # take input from the user\n",
    "    choice = input(\"Enter choice(1/2/3/4): \")\n",
    "\n",
    "    # check if choice is one of the four options\n",
    "    if choice in ('1', '2', '3', '4'):\n",
    "        try:\n",
    "            num1 = float(input(\"Enter first number: \"))\n",
    "            num2 = float(input(\"Enter second number: \"))\n",
    "        except ValueError:\n",
    "            print(\"Invalid input. Please enter a number.\")\n",
    "            continue\n",
    "\n",
    "        if choice == '1':\n",
    "            print(num1, \"+\", num2, \"=\", add(num1, num2))\n",
    "\n",
    "        elif choice == '2':\n",
    "            print(num1, \"-\", num2, \"=\", subtract(num1, num2))\n",
    "\n",
    "        elif choice == '3':\n",
    "            print(num1, \"*\", num2, \"=\", multiply(num1, num2))\n",
    "\n",
    "        elif choice == '4':\n",
    "            print(num1, \"/\", num2, \"=\", divide(num1, num2))\n",
    "        \n",
    "        # check if user wants another calculation\n",
    "        # break the while loop if answer is no\n",
    "        next_calculation = input(\"Let's do next calculation? (yes/no): \")\n",
    "        if next_calculation == \"no\":\n",
    "            break\n",
    "    else:\n",
    "        print(\"Invalid Input\")"
   ]
  },
  {
   "cell_type": "code",
   "execution_count": null,
   "id": "24ca2742",
   "metadata": {},
   "outputs": [],
   "source": []
  }
 ],
 "metadata": {
  "kernelspec": {
   "display_name": "Python 3 (ipykernel)",
   "language": "python",
   "name": "python3"
  },
  "language_info": {
   "codemirror_mode": {
    "name": "ipython",
    "version": 3
   },
   "file_extension": ".py",
   "mimetype": "text/x-python",
   "name": "python",
   "nbconvert_exporter": "python",
   "pygments_lexer": "ipython3",
   "version": "3.11.3"
  }
 },
 "nbformat": 4,
 "nbformat_minor": 5
}
